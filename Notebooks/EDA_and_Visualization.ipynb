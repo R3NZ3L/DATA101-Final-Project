{
 "cells": [
  {
   "cell_type": "code",
   "execution_count": null,
   "id": "52ed4566-6dfd-4da0-a964-86992f6042ca",
   "metadata": {
    "tags": []
   },
   "outputs": [],
   "source": [
    "# Import packages\n",
    "from dash import Dash, html, dash_table, dcc, callback, Output, Input\n",
    "import pandas as pd\n",
    "import numpy as np\n",
    "import plotly.express as px\n",
    "import dash_bootstrap_components as dbc\n",
    "import regex as re\n",
    "import geopandas as gpd\n",
    "\n",
    "from datetime import datetime"
   ]
  },
  {
   "cell_type": "markdown",
   "id": "c574dc47-83ab-4306-b93b-20ed9a29172e",
   "metadata": {},
   "source": [
    "##### Table of Contents\n",
    "- <a href=\"#Loading-the-Dengue-Dataset\">Loading the Dengue Dataset</a>\n",
    "- <a href=\"#Cleaning-the-datasets\">Cleaning the datasets</a>\n",
    "- <a href=\"#Exploratory-Data-Analysis\">Exploratory Data Analysis (EDA)</a>"
   ]
  },
  {
   "cell_type": "markdown",
   "id": "3ff64fdd-7967-4c21-a05a-876234d8c51a",
   "metadata": {
    "tags": []
   },
   "source": [
    "---\n",
    "### Loading the Dengue Dataset and Regional boundaries\n",
    "<a href=\"#Table-of-Contents\">Back to Table of Contents</a>"
   ]
  },
  {
   "cell_type": "code",
   "execution_count": null,
   "id": "af2a3117-42d8-4c4a-a494-1e3c50c33e44",
   "metadata": {
    "tags": []
   },
   "outputs": [],
   "source": [
    "path = \"../datasets/csv/Dengue_Data_2020.csv\"\n",
    "df = pd.read_csv(path)"
   ]
  },
  {
   "cell_type": "code",
   "execution_count": null,
   "id": "afb603e7-1f35-412f-a238-3ed4536343d5",
   "metadata": {
    "tags": []
   },
   "outputs": [],
   "source": [
    "df.head()"
   ]
  },
  {
   "cell_type": "code",
   "execution_count": null,
   "id": "f0fb942a-5ca2-460b-acce-557ccdfcc041",
   "metadata": {
    "tags": []
   },
   "outputs": [],
   "source": [
    "path = \"../datasets/json/regions.json\"\n",
    "regions = gpd.read_file(path)"
   ]
  },
  {
   "cell_type": "code",
   "execution_count": null,
   "id": "25669618-31b1-447a-9d35-ef538068f96c",
   "metadata": {
    "tags": []
   },
   "outputs": [],
   "source": [
    "regions"
   ]
  },
  {
   "cell_type": "markdown",
   "id": "ffdbdc74-68a7-44d1-82d0-b625f41c177b",
   "metadata": {
    "tags": []
   },
   "source": [
    "---\n",
    "### Cleaning the datasets\n",
    "<a href=\"#Table-of-Contents\">Back to Table of Contents</a>"
   ]
  },
  {
   "cell_type": "markdown",
   "id": "d9da6d47-2349-4df6-b7a3-30f0c4dd08ce",
   "metadata": {
    "tags": []
   },
   "source": [
    "#### Compiling provincial boundary data"
   ]
  },
  {
   "cell_type": "code",
   "execution_count": null,
   "id": "1b02618b-f21e-41d4-9d98-4951ca5b035d",
   "metadata": {
    "tags": []
   },
   "outputs": [],
   "source": [
    "r_codes = [\n",
    "    \"100000000\", \"200000000\", \"300000000\", \"400000000\", \"500000000\", \"600000000\", \"700000000\",\n",
    "    \"800000000\", \"900000000\", \"1000000000\", \"1100000000\", \"1200000000\", \"1300000000\", \"1400000000\",\n",
    "    \"1600000000\", \"1700000000\", \"1900000000\"\n",
    "]"
   ]
  },
  {
   "cell_type": "code",
   "execution_count": null,
   "id": "75fc139c-9e46-4b8d-baab-478def2cd738",
   "metadata": {
    "tags": []
   },
   "outputs": [],
   "source": [
    "# Preview of one file (this file in paricular shows provinces of the Ilocos Region)\n",
    "path = \"../datasets/json/provinces_part/provdists-region-\" + r_codes[0] + \".0.1.json\"\n",
    "gdf = gpd.read_file(path)\n",
    "gdf.head()"
   ]
  },
  {
   "cell_type": "code",
   "execution_count": null,
   "id": "fa3d1cdf-baa4-4c09-9e58-3725365896a8",
   "metadata": {
    "tags": []
   },
   "outputs": [],
   "source": [
    "r_codes = r_codes[1:]\n",
    "\n",
    "for i in range(len(r_codes)):\n",
    "    to_add = gpd.read_file(\"../datasets/json/provinces_part/provdists-region-\" + r_codes[i] + \".0.1.json\")\n",
    "    gdf = pd.concat([gdf, to_add], ignore_index=True)"
   ]
  },
  {
   "cell_type": "code",
   "execution_count": null,
   "id": "04e38e12-8a17-4f6d-ad97-f8abdabd86cf",
   "metadata": {
    "tags": []
   },
   "outputs": [],
   "source": [
    "gdf"
   ]
  },
  {
   "cell_type": "code",
   "execution_count": null,
   "id": "6ea2a2ac-cb14-4500-abd4-abc33e7728a7",
   "metadata": {
    "tags": []
   },
   "outputs": [],
   "source": [
    "# Renaming the last item, which is the Special Geographic Area found neighboring Cotabato\n",
    "gdf.at[87, \"adm2_en\"] = \"Special Geographic Area\"\n",
    "gdf.at[87, \"geo_level\"] = \"Prov\""
   ]
  },
  {
   "cell_type": "code",
   "execution_count": null,
   "id": "16c58f28-d4e4-45ad-aab6-7ddca381cbbc",
   "metadata": {
    "tags": []
   },
   "outputs": [],
   "source": [
    "gdf.to_file(\"../datasets/json/provinces.json\", driver=\"GeoJSON\")"
   ]
  },
  {
   "cell_type": "code",
   "execution_count": null,
   "id": "d967157b-a3dd-414a-acb7-3ab61e24c1bb",
   "metadata": {
    "tags": []
   },
   "outputs": [],
   "source": [
    "# Checking\n",
    "path = \"../datasets/json/provinces.json\"\n",
    "provinces = gpd.read_file(path)\n",
    "provinces.shape"
   ]
  },
  {
   "cell_type": "markdown",
   "id": "43b41f5b-65b2-493e-b599-6665db1fbf0e",
   "metadata": {
    "tags": []
   },
   "source": [
    "#### Dummy header"
   ]
  },
  {
   "cell_type": "code",
   "execution_count": null,
   "id": "61b70b08-b355-4346-b588-f268c842f46e",
   "metadata": {
    "tags": []
   },
   "outputs": [],
   "source": [
    "df = df.drop([0]).reset_index().drop(\"index\", axis=1)\n",
    "df.head()"
   ]
  },
  {
   "cell_type": "markdown",
   "id": "994ac983-9697-428c-aa50-d2b8a62a43b5",
   "metadata": {
    "tags": []
   },
   "source": [
    "#### Numerical values are saved as string"
   ]
  },
  {
   "cell_type": "code",
   "execution_count": null,
   "id": "7d4de899-8ab5-410a-9914-4665e5ac8f96",
   "metadata": {
    "tags": []
   },
   "outputs": [],
   "source": [
    "df.dtypes"
   ]
  },
  {
   "cell_type": "code",
   "execution_count": null,
   "id": "e9887db7-ca55-485c-ad55-f52eb6b29993",
   "metadata": {
    "tags": []
   },
   "outputs": [],
   "source": [
    "df[\"cases\"] = pd.to_numeric(df[\"cases\"])\n",
    "df[\"deaths\"] = pd.to_numeric(df[\"deaths\"])\n",
    "df[\"year\"] = pd.to_numeric(df[\"year\"])\n",
    "df.dtypes"
   ]
  },
  {
   "cell_type": "markdown",
   "id": "edcd9a2c-fc0f-4410-aa21-b41d9895aed2",
   "metadata": {
    "tags": []
   },
   "source": [
    "#### Date values have inconsistent format"
   ]
  },
  {
   "cell_type": "code",
   "execution_count": null,
   "id": "2ff17b3e-f603-454d-85d6-d30eadd78b6f",
   "metadata": {
    "tags": []
   },
   "outputs": [],
   "source": [
    "df[\"date\"].unique()"
   ]
  },
  {
   "cell_type": "code",
   "execution_count": null,
   "id": "e160a69d-f516-4ce7-be3b-47c7d2d3caef",
   "metadata": {
    "tags": []
   },
   "outputs": [],
   "source": [
    "day_pattern = '(?<=\\d\\/0)\\d(?=\\/)'\n",
    "month_pattern = '\\d+(?=\\/\\d+\\/)'\n",
    "year_pattern = '(?<=\\d+\\/\\d+\\/)\\d+'\n",
    "\n",
    "dates = df[\"date\"].to_list()\n",
    "\n",
    "for i in range(len(dates)):\n",
    "    match = re.search(day_pattern, dates[i])\n",
    "    if match is not None:\n",
    "        day = match.group()\n",
    "        month = re.search(month_pattern, dates[i]).group()\n",
    "        year = re.search(year_pattern, dates[i]).group()\n",
    "        \n",
    "        new_date = month + \"/\" + day + \"/\" + year\n",
    "        dates[i] = new_date\n",
    "\n",
    "df[\"date\"] = dates\n",
    "df[\"date\"].unique()"
   ]
  },
  {
   "cell_type": "markdown",
   "id": "abd27c6a-e5bd-4aef-8b88-766264e7d467",
   "metadata": {
    "tags": []
   },
   "source": [
    "#### Inconsistent format for region values"
   ]
  },
  {
   "cell_type": "code",
   "execution_count": null,
   "id": "6bc90a60-2237-46c1-bbc3-2e45a6c5fd9f",
   "metadata": {
    "tags": []
   },
   "outputs": [],
   "source": [
    "df.rename(columns = {'Region':'region'}, inplace = True)\n",
    "df.head()"
   ]
  },
  {
   "cell_type": "code",
   "execution_count": null,
   "id": "9cf971ce-87a3-4a1d-a7ef-dd3c272fe9b8",
   "metadata": {
    "tags": []
   },
   "outputs": [],
   "source": [
    "# Unique values in 'region' column in Dengue dataset\n",
    "df[\"region\"].unique()"
   ]
  },
  {
   "cell_type": "code",
   "execution_count": null,
   "id": "0b1cb995-609d-41c2-b205-3a9062cfa78f",
   "metadata": {
    "tags": []
   },
   "outputs": [],
   "source": [
    "# Proper region names, as per our GeoJSONs\n",
    "regions[\"adm1_en\"].unique()"
   ]
  },
  {
   "cell_type": "code",
   "execution_count": null,
   "id": "c53a4cb5-60bc-4c5d-af71-d1aa30020a30",
   "metadata": {
    "tags": []
   },
   "outputs": [],
   "source": [
    "# Renaming each value to the corresponding format found in our GeoJSONs, for consistency\n",
    "df[\"region\"] = df[\"region\"].map({\n",
    "    'Region I-ILOCOS REGION': \"Region I (Ilocos Region)\",\n",
    "    'Region II-CAGAYAN VALLEY': \"Region II (Cagayan Valley)\",\n",
    "    'REGION III-CENTRAL LUZON': \"Region III (Central Luzon)\",\n",
    "    'REGION IV-A-CALABARZON': \"Region IV-A (CALABARZON)\",\n",
    "    'REGION IVB-MIMAROPA': \"MIMAROPA Region\",\n",
    "    'REGION V-BICOL REGION': \"Region V (Bicol Region)\",\n",
    "    'REGION VI-WESTERN VISAYAS': \"Region VI (Western Visayas)\",\n",
    "    'REGION VII-CENTRAL VISAYAS': \"Region VII (Central Visayas)\",\n",
    "    'REGION VII-EASTERN VISAYAS': \"Region VIII (Eastern Visayas)\",\n",
    "    'REGION IX-ZAMBOANGA PENINSULA': \"Region IX (Zamboanga Peninsula)\",\n",
    "    'REGION X-NORTHERN MINDANAO': \"Region X (Northern Mindanao)\",\n",
    "    'REGION XI-DAVAO REGION': \"Region XI (Davao Region)\",\n",
    "    'REGION XII-SOCCSKSARGEN': \"Region XII (SOCCSKSARGEN)\",\n",
    "    'NATIONAL CAPITAL REGION': 'National Capital Region (NCR)',\n",
    "    'CAR': 'Cordillera Administrative Region (CAR)',\n",
    "    'CARAGA': 'Region XIII (Caraga)',\n",
    "    'BARMM': 'Bangsamoro Autonomous Region In Muslim Mindanao (BARMM)'\n",
    "})\n",
    "df.head()"
   ]
  },
  {
   "cell_type": "markdown",
   "id": "348c0127-6427-4bd2-986d-85886154c7d0",
   "metadata": {
    "tags": []
   },
   "source": [
    "#### 'loc' column is inconsistent; contains cities AND provinces"
   ]
  },
  {
   "cell_type": "code",
   "execution_count": null,
   "id": "e2995f90-afd7-454a-9a2a-615115185f09",
   "metadata": {},
   "outputs": [],
   "source": [
    "locs = df[\"loc\"].unique()\n",
    "locs"
   ]
  },
  {
   "cell_type": "code",
   "execution_count": null,
   "id": "8823d199-cdec-4c72-a118-7e8d4496f8fb",
   "metadata": {
    "tags": []
   },
   "outputs": [],
   "source": [
    "# Dataset from provincial boundaries GeoJSON\n",
    "provinces.head()"
   ]
  },
  {
   "cell_type": "code",
   "execution_count": null,
   "id": "21b7b5fd-a35e-4b1b-a63e-a4822d33ffb8",
   "metadata": {
    "tags": []
   },
   "outputs": [],
   "source": [
    "province_names = provinces[\"adm2_en\"].unique()\n",
    "province_names"
   ]
  },
  {
   "cell_type": "code",
   "execution_count": null,
   "id": "d2cad60d-5220-4899-9ab0-332bca3199db",
   "metadata": {
    "tags": []
   },
   "outputs": [],
   "source": [
    "provinces_up = [province.upper() for province in province_names]\n",
    "check_dict = {}\n",
    "\n",
    "for i in range(len(locs)):\n",
    "    if locs[i] in provinces_up:\n",
    "        check_dict[locs[i]] = True\n",
    "    else:\n",
    "        check_dict[locs[i]] = False\n",
    "\n",
    "correct = []\n",
    "wrong = []\n",
    "for loc in check_dict.keys():\n",
    "    if check_dict.get(loc):\n",
    "        correct.append(loc)\n",
    "    else:\n",
    "        wrong.append(loc)\n",
    "        \n",
    "correct = np.array(correct)\n",
    "wrong = np.array(wrong)"
   ]
  },
  {
   "cell_type": "code",
   "execution_count": null,
   "id": "9c579873-6e2c-4730-9a66-49a09f60f66a",
   "metadata": {
    "tags": []
   },
   "outputs": [],
   "source": [
    "# Values in loc that are provinces recorded in our other datasets\n",
    "correct"
   ]
  },
  {
   "cell_type": "code",
   "execution_count": null,
   "id": "9376f26d-fa13-46f1-a1f5-653874affc82",
   "metadata": {
    "tags": []
   },
   "outputs": [],
   "source": [
    "# Values in loc that are either cities or misspelled provinces\n",
    "wrong"
   ]
  },
  {
   "cell_type": "code",
   "execution_count": null,
   "id": "b4396182-822b-4d5e-af5f-ce8d6526b418",
   "metadata": {
    "tags": []
   },
   "outputs": [],
   "source": [
    "df[\"loc\"] = df[\"loc\"].map({\n",
    "    'DAGUPAN CITY': 'Pangasinan', 'NUEVA VISCAYA': 'Nueva Vizcaya', 'SANTIAGO CITY': 'Isabela', 'ANGELES CITY': 'Pampanga',\n",
    "    'OLONGAPO CITY': 'Zambales', 'LUCENA CITY': 'Quezon', 'PUERTO PRINCESA CITY': 'Palawan', 'NAGA CITY': 'Camarines Sur',\n",
    "    'BACOLOD CITY': 'Negros Occidental', 'ILOILO CITY': 'Iloilo', 'CEBU CITY': 'Cebu', 'LAPU-LAPU CITY': 'Cebu',\n",
    "    'MANDAUE CITY': 'Cebu', ' NEGROS ORIENTAL': 'Negros Oriental', 'SISQUIJOR': 'Siquijor', 'ORMOC CITY': 'Leyte',\n",
    "    'TACLOBAN': 'Leyte', 'ISABELA CITY': 'City of Isabela (Not a Province)', 'ZAMBOANGA CITY': 'Zamboanga del Sur',\n",
    "    ' CAGAYAN DE ORO CITY': 'Misamis Oriental', 'ILIGAN CITY': 'Lanao del Norte', 'DAVAO CITY': 'Davao del Sur',\n",
    "    'COTABATO CITY': 'Cotabato', 'GENERAL SANTOS CITY': 'South Cotabato', 'NORTH COTABATO': 'Cotabato',\n",
    "    'MAGUINDANAO': 'Maguindanao del Norte', 'BAGUIO CITY': 'Benguet', 'BASILIG CITY': 'Surigao del Sur', 'BAYUGAN CITY': 'Agusan del Sur',\n",
    "    'BUTUAN CITY': 'Agusan del Norte', 'CABADBARAN CITY': 'Agusan del Norte', 'SURIGAO CITY': 'Surigao del Norte',\n",
    "    'TANDAG CITY': 'Surigao del Sur', 'CALOOCAN CITY': 'NCR, Third District (Not a Province)', 'LAS PINAS CITY': 'NCR, Fourth District (Not a Province)',\n",
    "    'MALABON CITY': 'NCR, Third District (Not a Province)', 'MAKATI CITY': 'NCR, Fourth District (Not a Province)',\n",
    "    'MANDALUYONG CITY': 'NCR, Second District (Not a Province)', 'MANILA CITY': 'NCR, City of Manila, First District (Not a Province)',\n",
    "    'MARIKINA CITY': 'NCR, Second District (Not a Province)', 'MUNTINLUPA CITY': 'NCR, Fourth District (Not a Province)',\n",
    "    'NAVOTAS CITY': 'NCR, Third District (Not a Province)', 'PARANAQUE CITY': 'NCR, Fourth District (Not a Province)',\n",
    "    'PASAY CITY': 'NCR, Fourth District (Not a Province)', 'PASIG CITY': 'NCR, Second District (Not a Province)',\n",
    "    'PATEROS': 'NCR, Fourth District (Not a Province)', 'QUEZON CITY': 'NCR, Second District (Not a Province)',\n",
    "    'SAN JUAN CITY': 'NCR, Second District (Not a Province)', 'TAGUIG CITY': 'NCR, Fourth District (Not a Province)',\n",
    "    'VALENZUELA CITY': 'NCR, Third District (Not a Province)', 'ILOCOS NORTE': 'Ilocos Norte', 'ILOCOS SUR': 'Ilocos Sur',\n",
    "    'LA UNION': 'La Union', 'PANGASINAN': 'Pangasinan', 'BATANES': 'Batanes', 'CAGAYAN': 'Cagayan', 'ISABELA': 'Isabela',\n",
    "    'QUIRINO': 'Quirino', 'AURORA': 'Aurora', 'BATAAN': 'Bataan', 'BULACAN': 'Bulacan', 'NUEVA ECIJA': 'Nueva Ecija',\n",
    "    'PAMPANGA': 'Pampanga', 'TARLAC': 'Tarlac', 'ZAMBALES': 'Zambales', 'BATANGAS': 'Batangas', 'CAVITE': 'Cavite',\n",
    "    'LAGUNA': 'Laguna', 'QUEZON': 'Quezon', 'RIZAL': 'Rizal', 'MARINDUQUE': 'Marinduque', 'OCCIDENTAL MINDORO': 'Occidental Mindoro',\n",
    "    'ORIENTAL MINDORO': 'Oriental Mindoro', 'PALAWAN': 'Palawan', 'ROMBLON': 'Romblon', 'ALBAY': 'Albay',\n",
    "    'CAMARINES NORTE': 'Camarines Norte', 'CAMARINES SUR': 'Camarines Sur', 'CATANDUANES': 'Catanduanes', 'MASBATE': 'Masbate',\n",
    "    'SORSOGON': 'Sorsogon', 'AKLAN': 'Aklan', 'ANTIQUE': 'Antique', 'CAPIZ': 'Capiz', 'GUIMARAS': 'Guimaras', 'ILOILO': 'Iloilo',\n",
    "    'NEGROS OCCIDENTAL': 'Negros Occidental', 'BOHOL': 'Bohol', 'CEBU': 'Cebu', 'BILIRAN': 'Biliran', 'EASTERN SAMAR': 'Eastern Samar',\n",
    "    'LEYTE': 'Leyte', 'NORTHERN SAMAR': 'Northern Samar', 'SAMAR': 'Samar', 'SOUTHERN LEYTE': 'Southern Leyte', 'ZAMBOANGA DEL NORTE': 'Zamboanga del Norte',\n",
    "    'ZAMBOANGA DEL SUR': 'Zamboanga del Sur', 'ZAMBOANGA SIBUGAY': 'Zamboanga Sibugay', 'BUKIDNON': 'Bukidnon',\n",
    "    'CAMIGUIN': 'Camiguin', 'LANAO DEL NORTE': 'Lanao del Norte', 'MISAMIS OCCIDENTAL': 'Misamis Occidental', 'MISAMIS ORIENTAL': 'Misamis Oriental',\n",
    "    'DAVAO DE ORO': 'Davao de Oro', 'DAVAO DEL NORTE': 'Davao del Norte', 'DAVAO DEL SUR': 'Davao del Sur', 'DAVAO OCCIDENTAL': 'Davao Occidental',\n",
    "    'DAVAO ORIENTAL': 'Davao Oriental', 'SARANGANI': 'Sarangani', 'SOUTH COTABATO': 'South Cotabato', 'SULTAN KUDARAT': 'Sultan Kudarat',\n",
    "    'BASILAN': 'Basilan', 'LANAO DEL SUR': 'Lanao del Sur', 'SULU': 'Sulu', 'TAWI-TAWI': 'Tawi-Tawi', 'ABRA': 'Abra', 'APAYAO': 'Apayao',\n",
    "    'BENGUET': 'Benguet', 'IFUGAO': 'Ifugao', 'KALINGA': 'Kalinga', 'MOUNTAIN PROVINCE': 'Mountain Province', 'AGUSAN DEL NORTE': 'Agusan del Norte',\n",
    "    'AGUSAN DEL SUR': 'Agusan del Sur', 'DINAGAT ISLANDS': 'Dinagat Islands', 'SURIGAO DEL NORTE': 'Surigao del Norte', 'SURIGAO DEL SUR': 'Surigao del Sur'})\n",
    "\n",
    "df.rename(columns = {'loc':'province'}, inplace = True)\n",
    "df.head()"
   ]
  },
  {
   "cell_type": "code",
   "execution_count": null,
   "id": "4e537bc3-e4cf-4cb2-9187-f3a5639bbe53",
   "metadata": {
    "tags": []
   },
   "outputs": [],
   "source": [
    "# Checking if all entries are ACTUALLY provinces\n",
    "complete = True\n",
    "for province in df[\"province\"].unique():\n",
    "    if province in province_names:\n",
    "        pass\n",
    "    else:\n",
    "        print(province)\n",
    "        complete = False\n",
    "        break\n",
    "\n",
    "print(f\"Complete: {complete}\")"
   ]
  },
  {
   "cell_type": "markdown",
   "id": "b94e8c34-d900-49b7-a752-221b01af649c",
   "metadata": {
    "tags": []
   },
   "source": [
    "#### Unique codes for provinces and regions"
   ]
  },
  {
   "cell_type": "code",
   "execution_count": null,
   "id": "357bdff2-adaa-4431-bd77-6c4f8e9f8c6f",
   "metadata": {
    "tags": []
   },
   "outputs": [],
   "source": [
    "region_codes = {}\n",
    "\n",
    "for i in range(regions.shape[0]):\n",
    "    region_codes[regions.iloc[i]['adm1_en']] = regions.iloc[i]['adm1_psgc']\n",
    "\n",
    "# region_codes"
   ]
  },
  {
   "cell_type": "code",
   "execution_count": null,
   "id": "13542103-3faf-436d-bf1e-740455cf9743",
   "metadata": {
    "tags": []
   },
   "outputs": [],
   "source": [
    "province_codes = {}\n",
    "\n",
    "for i in range(provinces.shape[0]):\n",
    "    province_codes[provinces.iloc[i]['adm2_en']] = provinces.iloc[i]['adm2_psgc']\n",
    "\n",
    "# province_codes"
   ]
  },
  {
   "cell_type": "code",
   "execution_count": null,
   "id": "cabf3f81-1b62-47a3-a580-290ec8c214bb",
   "metadata": {
    "tags": []
   },
   "outputs": [],
   "source": [
    "province_names = df['province'].to_list()\n",
    "region_names = df['region'].to_list()\n",
    "print(province_names[0:5])\n",
    "print(region_names[0:5])"
   ]
  },
  {
   "cell_type": "code",
   "execution_count": null,
   "id": "6fd2c36b-eb06-4e58-8723-e207b90cf68e",
   "metadata": {
    "tags": []
   },
   "outputs": [],
   "source": [
    "p_codes = []\n",
    "r_codes = []\n",
    "\n",
    "for i in range(len(province_names)):\n",
    "    p_codes.append(province_codes.get(province_names[i]))\n",
    "    r_codes.append(region_codes.get(region_names[i]))\n",
    "    \n",
    "print(p_codes[0:5])\n",
    "print(r_codes[0:5])"
   ]
  },
  {
   "cell_type": "code",
   "execution_count": null,
   "id": "ae702e5d-99c9-41f9-b241-165c595e3090",
   "metadata": {
    "tags": []
   },
   "outputs": [],
   "source": [
    "df.head()"
   ]
  },
  {
   "cell_type": "code",
   "execution_count": null,
   "id": "b3b99edb-e7d5-420c-ba82-b95aa3108aeb",
   "metadata": {
    "tags": []
   },
   "outputs": [],
   "source": [
    "df.insert(1, \"adm2_psgc\", p_codes)\n",
    "df.insert(6, \"adm1_psgc\", r_codes)\n",
    "df.head()"
   ]
  },
  {
   "cell_type": "markdown",
   "id": "1b589f6c-bf63-466a-b5c3-5397a4a35b03",
   "metadata": {
    "tags": []
   },
   "source": [
    "#### Getting month names and order"
   ]
  },
  {
   "cell_type": "code",
   "execution_count": null,
   "id": "7380c266-95d2-45c9-b140-0480f5294e9c",
   "metadata": {},
   "outputs": [],
   "source": [
    "dates = pd.to_datetime(df['date'], dayfirst=True)\n",
    "months_name = []\n",
    "months_num = []\n",
    "\n",
    "month_dict = {\n",
    "    1: 'January',\n",
    "    2: 'February',\n",
    "    3: 'March',\n",
    "    4: 'April',\n",
    "    5: 'May',\n",
    "    6: 'June',\n",
    "    7: 'July',\n",
    "    8: 'August',\n",
    "    9: 'September',\n",
    "    10: 'October',\n",
    "    11: 'November',\n",
    "    12: 'December'\n",
    "}\n",
    "\n",
    "for date in dates:\n",
    "    months_num.append(date.month)\n",
    "    months_name.append(month_dict.get(date.month))\n",
    "\n",
    "df.insert(5, \"month_num\", months_num)\n",
    "df.insert(5, \"month_name\", months_name)"
   ]
  },
  {
   "cell_type": "code",
   "execution_count": null,
   "id": "fcd84fdc-a070-42a3-acd0-5279b04f10da",
   "metadata": {
    "tags": []
   },
   "outputs": [],
   "source": [
    "df.head()"
   ]
  },
  {
   "cell_type": "markdown",
   "id": "69b87952-ff56-483c-b224-5b8d20f8a200",
   "metadata": {
    "tags": []
   },
   "source": [
    "#### Saving the cleaned dataset"
   ]
  },
  {
   "cell_type": "code",
   "execution_count": null,
   "id": "f1642317-e7a8-4f04-bdef-0d251a057fbc",
   "metadata": {
    "tags": []
   },
   "outputs": [],
   "source": [
    "df = df[[\"adm1_psgc\", \"adm2_psgc\", \"region\", \"province\", \"date\", \"month_name\", \"month_num\",\n",
    "   \"cases\", \"deaths\"]]"
   ]
  },
  {
   "cell_type": "code",
   "execution_count": null,
   "id": "f63d47f8-8511-4ad2-b907-3e42b4e957d0",
   "metadata": {
    "tags": []
   },
   "outputs": [],
   "source": [
    "path = \"../datasets/csv/dengue_cleaned.csv\"\n",
    "df.to_csv(path)"
   ]
  },
  {
   "cell_type": "code",
   "execution_count": null,
   "id": "266044c9-aed6-4a84-8e9b-c98df424cc9b",
   "metadata": {
    "tags": []
   },
   "outputs": [],
   "source": [
    "# Checking\n",
    "df = pd.read_csv(path, index_col=0)\n",
    "df.head()"
   ]
  },
  {
   "cell_type": "markdown",
   "id": "be1ba7c0-1a65-4457-a11f-3edc38591b6b",
   "metadata": {
    "tags": []
   },
   "source": [
    "---\n",
    "### Exploratory Data Analysis\n",
    "<a href=\"#Table-of-Contents\">Back to Table of Contents</a>"
   ]
  },
  {
   "cell_type": "markdown",
   "id": "1b4e376d-b10d-4a98-b015-4438b7fe8a1f",
   "metadata": {
    "tags": []
   },
   "source": [
    "#### List of Graphs\n",
    "<ul>\n",
    "    <li><a href=\"#Cases-and-Deaths-per-region\">Cases and Deaths per region</a></li>\n",
    "    <li><a href=\"#Cases-and-Deaths-per-province\">Cases and Deaths per province</a></li>\n",
    "    <li><a href=\"#Fatality-Rate-per-region\">Fatality Rate per region</a></li>\n",
    "    <li><a href=\"#Fatality-Rate-per-province\">Fatality Rate per province</a></li>\n",
    "    <li><a href=\"#Cases-per-month\">Cases per month</a></li>\n",
    "    <li><a href=\"#Deaths-per-month\">Deaths per month</a></li>\n",
    "    <li><a href=\"#Cases-and-Deaths-over-time-(regional)\">Cases and Deaths over time (regional)</a></li>\n",
    "    <li><a href=\"#Cases-and-Deaths-over-time-(national)\">Cases and Deaths over time (national)</a></li>\n",
    "    <li><a href=\"#Fatality-rate-Choropleth-Map\">Fatality rate Choropleth Map</a></li>\n",
    "</ul>"
   ]
  },
  {
   "cell_type": "markdown",
   "id": "cebdbce1-a16c-45e7-afe2-bcc96bdcbed0",
   "metadata": {
    "tags": []
   },
   "source": [
    "##### Preparation: Mapping long names to shorter versions"
   ]
  },
  {
   "cell_type": "code",
   "execution_count": null,
   "id": "a50bdb23-abcb-47d3-ab5e-34cbba52f7ee",
   "metadata": {},
   "outputs": [],
   "source": [
    "df['region'] = df['region'].map({\n",
    "    'Bangsamoro Autonomous Region In Muslim Mindanao (BARMM)': 'BARMM',\n",
    "    'Cordillera Administrative Region (CAR)': 'CAR',\n",
    "    'MIMAROPA Region': 'MIMAROPA',\n",
    "    'National Capital Region (NCR)': 'NCR',\n",
    "    'Region I (Ilocos Region)': 'Region I',\n",
    "    'Region II (Cagayan Valley)': 'Region II',\n",
    "    'Region III (Central Luzon)': 'Region III',\n",
    "    'Region IV-A (CALABARZON)': 'Region IV-A',\n",
    "    'Region IX (Zamboanga Peninsula)': 'Region IX',\n",
    "    'Region V (Bicol Region)': 'Region V',\n",
    "    'Region VI (Western Visayas)': 'Region VI',\n",
    "    'Region VII (Central Visayas)': 'Region VII',\n",
    "    'Region VIII (Eastern Visayas)': 'Region VIII',\n",
    "    'Region X (Northern Mindanao)': 'Region X',\n",
    "    'Region XI (Davao Region)': 'Region XI',\n",
    "    'Region XII (SOCCSKSARGEN)': 'Region XII',\n",
    "    'Region XIII (Caraga)': 'Region XIII'\n",
    "})"
   ]
  },
  {
   "cell_type": "code",
   "execution_count": null,
   "id": "6a9d3399-b87c-431a-beb8-8ffe529619f0",
   "metadata": {
    "tags": []
   },
   "outputs": [],
   "source": [
    "color_dict = {\n",
    "    'BARMM': '#5B7FA4',\n",
    "    'CAR': '#A27F5D',\n",
    "    'MIMAROPA': '#00FF85',\n",
    "    'NCR': '#585858',\n",
    "    'Region I': '#2000FF',\n",
    "    'Region II': '#DFFF00',\n",
    "    'Region III': '#E100FF',\n",
    "    'Region IV-A': '#1EFF00',\n",
    "    'Region IX': '#FF0026',\n",
    "    'Region V': '#00FFD9',\n",
    "    'Region VI': '#FF9100',\n",
    "    'Region VII': '#9A6595',\n",
    "    'Region VIII': '#FF4CD5',\n",
    "    'Region X': '#48B7AC',\n",
    "    'Region XI': '#9D609F',\n",
    "    'Region XII': '#629F60',\n",
    "    'Region XIII': '#9FC13E'\n",
    "}"
   ]
  },
  {
   "cell_type": "markdown",
   "id": "4feecdc9-0cdb-45dc-bea0-c4298260ccf8",
   "metadata": {
    "tags": []
   },
   "source": [
    "#### Cases and Deaths per region\n",
    "<a href=\"#List-of-Graphs\">Back to list</a>"
   ]
  },
  {
   "cell_type": "code",
   "execution_count": null,
   "id": "446942ff-714e-4120-8326-3bddc4c7c113",
   "metadata": {},
   "outputs": [],
   "source": [
    "cases_deaths_per_region = df.groupby([\"region\", \"adm1_psgc\"])[[\"cases\", \"deaths\"]].sum().reset_index()\n",
    "cases_deaths_per_region.head()"
   ]
  },
  {
   "cell_type": "code",
   "execution_count": null,
   "id": "10aec5c9-80a2-4756-b287-b6194a5a76c6",
   "metadata": {
    "tags": []
   },
   "outputs": [],
   "source": [
    "fig = px.bar(cases_deaths_per_region.sort_values(ascending=False, by=\"cases\"),\n",
    "             x=\"region\",\n",
    "             y=\"cases\",\n",
    "             color=\"cases\",\n",
    "             color_continuous_scale=px.colors.sequential.OrRd,\n",
    "             labels = {\n",
    "                \"region\": \"Region\",\n",
    "                \"cases\": \"Number of Cases\"\n",
    "             },\n",
    "             text_auto=True\n",
    "            )\n",
    "fig.show()"
   ]
  },
  {
   "cell_type": "code",
   "execution_count": null,
   "id": "a81db8ee-3a69-451e-8e0d-6c3f531bf158",
   "metadata": {},
   "outputs": [],
   "source": [
    "fig = px.bar(cases_deaths_per_region.sort_values(ascending=False, by=\"deaths\"),\n",
    "             x=\"region\",\n",
    "             y=\"deaths\",\n",
    "             color=\"deaths\",\n",
    "             color_continuous_scale=px.colors.sequential.OrRd,\n",
    "             labels = {\n",
    "                \"region\": \"Region\",\n",
    "                \"deaths\": \"Number of Deaths\"\n",
    "             },\n",
    "             text_auto=True\n",
    "            )\n",
    "fig.show()"
   ]
  },
  {
   "cell_type": "markdown",
   "id": "41c9a786-40fa-4f13-a6b6-e1e6e2cde202",
   "metadata": {
    "tags": []
   },
   "source": [
    "#### Cases and Deaths per province\n",
    "<a href=\"#List-of-Graphs\">Back to list</a>"
   ]
  },
  {
   "cell_type": "code",
   "execution_count": null,
   "id": "8f47642c-964c-4898-81ef-6cf267035c9f",
   "metadata": {},
   "outputs": [],
   "source": [
    "cases_deaths_per_province = df.groupby([\"province\", \"adm2_psgc\",  \"region\", \"adm1_psgc\"])[[\"cases\", \"deaths\"]].sum().reset_index()\n",
    "cases_deaths_per_province.head()"
   ]
  },
  {
   "cell_type": "code",
   "execution_count": null,
   "id": "471e29a4-f4c4-4c39-857f-e5b3ed1cc6b8",
   "metadata": {
    "tags": []
   },
   "outputs": [],
   "source": [
    "'''\n",
    "Maguindanao del Sur (code 1908800000) and Special Geographic Area (1909900000) were NOT\n",
    "included in the Dengue dataset, because official formation of these \"provinces\" happened\n",
    "AFTER the Dengue dataset was recorded (at 2020).\n",
    "\n",
    "To remedy any future indexing errors, Maguindanao del Sur will copy values from Maguinadanao del Norte,\n",
    "and the Special Geographic Area will copy from Cotabato, mirroring the cases and deaths of their\n",
    "geographical neighbors.\n",
    "'''\n",
    "temp_dict = {\n",
    "    \"province\": [\"Maguindanao del Sur\", \"Special Geographic Area\"],\n",
    "    \"adm2_psgc\": [1908800000, 1909900000],\n",
    "    \"region\": [\"BARMM\", \"BARMM\"],\n",
    "    \"adm1_psgc\": [1900000000, 1900000000],\n",
    "    \"cases\": [264, 1485],\n",
    "    \"deaths\": [7, 88]\n",
    "}\n",
    "\n",
    "temp_df = pd.DataFrame(temp_dict, index=[0, 1])\n",
    "cases_deaths_per_province = pd.concat([cases_deaths_per_province, temp_df], ignore_index=True)\n",
    "cases_deaths_per_province.tail()"
   ]
  },
  {
   "cell_type": "code",
   "execution_count": null,
   "id": "7009e678-6944-421f-a505-5d891b84c7fc",
   "metadata": {
    "tags": []
   },
   "outputs": [],
   "source": [
    "# Filtering option\n",
    "specific_regions = [\"NCR\", \"Region XII\"]\n",
    "condition = f\"(cases_deaths_per_province['region'] == '{specific_regions[0]}')\"\n",
    "\n",
    "for region in specific_regions[1:]:\n",
    "    condition += f\" | (cases_deaths_per_province['region'] == '{region}')\"\n",
    "\n",
    "condition"
   ]
  },
  {
   "cell_type": "code",
   "execution_count": null,
   "id": "af1a87d4-20e1-438f-91b2-610bc624cfeb",
   "metadata": {
    "tags": []
   },
   "outputs": [],
   "source": [
    "fig = px.bar(cases_deaths_per_province.sort_values(ascending=False, by=\"cases\").loc[eval(condition)],\n",
    "             x=\"province\",\n",
    "             y=\"cases\",\n",
    "             color=\"region\",\n",
    "             color_discrete_map=color_dict,\n",
    "             labels = {\n",
    "                \"province\": \"Province\",\n",
    "                \"cases\": \"Number of Cases\",\n",
    "                \"region\": \"Region\"\n",
    "             },\n",
    "             text_auto=True\n",
    "            )\n",
    "fig.show()"
   ]
  },
  {
   "cell_type": "code",
   "execution_count": null,
   "id": "ba83333e-63df-437e-bc2e-6d3ad5a0caec",
   "metadata": {
    "tags": []
   },
   "outputs": [],
   "source": [
    "fig = px.bar(cases_deaths_per_province.sort_values(ascending=False, by=\"deaths\").loc[eval(condition)],\n",
    "             x=\"province\",\n",
    "             y=\"deaths\",\n",
    "             color=\"region\",\n",
    "             color_discrete_map=color_dict,\n",
    "             labels = {\n",
    "                \"province\": \"Province\",\n",
    "                \"deaths\": \"Number of Deaths\",\n",
    "                \"region\": \"Region\"\n",
    "             },\n",
    "             text_auto=True\n",
    "            )\n",
    "fig.show()"
   ]
  },
  {
   "cell_type": "markdown",
   "id": "ee118e6b-42ab-4e5c-9add-0672db5737fe",
   "metadata": {
    "tags": []
   },
   "source": [
    "#### Fatality Rate per region\n",
    "<a href=\"#List-of-Graphs\">Back to list</a>"
   ]
  },
  {
   "cell_type": "code",
   "execution_count": null,
   "id": "5ac566c0-3d1c-4a0c-bf33-598eee49d7d8",
   "metadata": {
    "tags": []
   },
   "outputs": [],
   "source": [
    "cases_deaths_per_region[\"fatality_rate\"] = round((cases_deaths_per_region[\"deaths\"] / cases_deaths_per_region[\"cases\"]) * 100.00, 2)\n",
    "cases_deaths_per_region.head()\n",
    "cases_deaths_per_region.to_csv(\"../datasets/csv/cases_deaths_per_region.csv\")"
   ]
  },
  {
   "cell_type": "code",
   "execution_count": null,
   "id": "e49ac7cb-87fa-4a98-824e-a064a9e66ce6",
   "metadata": {
    "tags": []
   },
   "outputs": [],
   "source": [
    "fig = px.bar(cases_deaths_per_region.sort_values(ascending=False, by=\"fatality_rate\"),\n",
    "             x=\"region\",\n",
    "             y=\"fatality_rate\",\n",
    "             color=\"region\",\n",
    "             color_discrete_map=color_dict,\n",
    "             labels = {\n",
    "                \"region\": \"Region\",\n",
    "                \"fatality_rate\": \"Fatality Rate (in %)\"\n",
    "             },\n",
    "             text_auto=True\n",
    "            )\n",
    "fig.show()"
   ]
  },
  {
   "cell_type": "markdown",
   "id": "09d60cf1-a974-456d-bf0b-0b76d92c08a7",
   "metadata": {
    "tags": []
   },
   "source": [
    "#### Fatality Rate per province\n",
    "<a href=\"#List-of-Graphs\">Back to list</a>"
   ]
  },
  {
   "cell_type": "code",
   "execution_count": null,
   "id": "3c63ca2b-9d98-4cb5-b8a6-993bcce35842",
   "metadata": {
    "tags": []
   },
   "outputs": [],
   "source": [
    "cases_deaths_per_province[\"fatality_rate\"] = round((cases_deaths_per_province[\"deaths\"] / cases_deaths_per_province[\"cases\"]) * 100.00, 2)\n",
    "cases_deaths_per_province.head()\n",
    "cases_deaths_per_province.to_csv(\"../datasets/csv/cases_deaths_per_province.csv\")"
   ]
  },
  {
   "cell_type": "code",
   "execution_count": null,
   "id": "b6511722-55ef-425c-ab24-d100017e4235",
   "metadata": {
    "tags": []
   },
   "outputs": [],
   "source": [
    "# Filtering option\n",
    "specific_regions = [\"CAR\", \"NCR\", \"Region XII\"]\n",
    "condition = f\"(cases_deaths_per_province['region'] == '{specific_regions[0]}')\"\n",
    "\n",
    "for region in specific_regions[1:]:\n",
    "    condition += f\" | (cases_deaths_per_province['region'] == '{region}')\"\n",
    "\n",
    "condition"
   ]
  },
  {
   "cell_type": "code",
   "execution_count": null,
   "id": "c12be2da-d960-49e6-a9b6-41dfc489bf1f",
   "metadata": {
    "tags": []
   },
   "outputs": [],
   "source": [
    "fig = px.bar(cases_deaths_per_province.sort_values(ascending=False, by=\"fatality_rate\").loc[eval(condition)],\n",
    "             x=\"province\",\n",
    "             y=\"fatality_rate\",\n",
    "             color=\"region\",\n",
    "             color_discrete_map=color_dict,\n",
    "             labels = {\n",
    "                \"province\": \"Province\",\n",
    "                \"fatality_rate\": \"Fatality Rate (in %)\",\n",
    "                \"region\": \"Region\"\n",
    "             },\n",
    "             text_auto=True\n",
    "            )\n",
    "fig.show()"
   ]
  },
  {
   "cell_type": "markdown",
   "id": "e83bddea-3235-4795-92bf-16b2152486a1",
   "metadata": {
    "tags": []
   },
   "source": [
    "#### Cases per month\n",
    "<a href=\"#List-of-Graphs\">Back to list</a>"
   ]
  },
  {
   "cell_type": "code",
   "execution_count": null,
   "id": "34b713ad-cc63-49d8-9929-08525a08dc5c",
   "metadata": {
    "tags": []
   },
   "outputs": [],
   "source": [
    "per_month = df.groupby([\"month_num\", \"month_name\"])[[\"cases\", \"deaths\"]].sum().reset_index()\n",
    "per_month.head()"
   ]
  },
  {
   "cell_type": "code",
   "execution_count": null,
   "id": "f2b90ae1-f367-4fcd-add0-25c1a3d1b6ce",
   "metadata": {
    "tags": []
   },
   "outputs": [],
   "source": [
    "fig = px.bar(per_month.sort_values(by=\"month_num\"),\n",
    "             x=\"month_name\",\n",
    "             y=\"cases\",\n",
    "             labels = {\n",
    "                \"month_name\": \"Month\",\n",
    "                \"cases\": \"Number of Cases (in thousands)\"\n",
    "             },\n",
    "             text_auto=True\n",
    "            )\n",
    "fig.show()"
   ]
  },
  {
   "cell_type": "markdown",
   "id": "746e09a9-3721-4e43-ba77-ec3816a633e4",
   "metadata": {
    "tags": []
   },
   "source": [
    "#### Deaths per month\n",
    "<a href=\"#List-of-Graphs\">Back to list</a>"
   ]
  },
  {
   "cell_type": "code",
   "execution_count": null,
   "id": "afde1432-5d98-4b43-acda-5b79993af89d",
   "metadata": {
    "tags": []
   },
   "outputs": [],
   "source": [
    "fig = px.bar(per_month.sort_values(by=\"month_num\"),\n",
    "             x=\"month_name\",\n",
    "             y=\"deaths\",\n",
    "             labels = {\n",
    "                \"month_name\": \"Month\",\n",
    "                \"deaths\": \"Number of Deaths\"\n",
    "             },\n",
    "             text_auto=True\n",
    "            )\n",
    "fig.show()"
   ]
  },
  {
   "cell_type": "markdown",
   "id": "da8b81f2-9e76-41a4-9451-9df86c59a949",
   "metadata": {
    "tags": []
   },
   "source": [
    "#### Cases and Deaths over time (regional)\n",
    "<a href=\"#List-of-Graphs\">Back to list</a>"
   ]
  },
  {
   "cell_type": "code",
   "execution_count": null,
   "id": "6921b164-5842-426f-b5c0-b6cd454139e3",
   "metadata": {},
   "outputs": [],
   "source": [
    "df.head()"
   ]
  },
  {
   "cell_type": "code",
   "execution_count": null,
   "id": "2ee1c5ca-1314-4890-abef-033690f245bc",
   "metadata": {
    "tags": []
   },
   "outputs": [],
   "source": [
    "per_month_per_region = df[['region', 'month_num', 'month_name', 'cases', 'deaths']].groupby(['region', 'month_num', 'month_name'])[['cases', 'deaths']].sum().reset_index()\n",
    "per_month_per_region"
   ]
  },
  {
   "cell_type": "code",
   "execution_count": null,
   "id": "d3e7a202-1f2d-4dd6-8ac1-772083d663bc",
   "metadata": {},
   "outputs": [],
   "source": [
    "fig = px.line(per_month_per_region,\n",
    "              x=\"month_name\",\n",
    "              y=\"cases\",\n",
    "              color=\"region\",\n",
    "              labels = {\n",
    "                  'month_name': 'Month',\n",
    "                  'cases': 'Number of Cases',\n",
    "                  'region': 'Region'\n",
    "              }\n",
    "             )\n",
    "fig.show()"
   ]
  },
  {
   "cell_type": "code",
   "execution_count": null,
   "id": "25d2d57d-0344-4f02-ae0a-7c39bf46b08d",
   "metadata": {
    "tags": []
   },
   "outputs": [],
   "source": [
    "fig = px.line(per_month_per_region,\n",
    "              x=\"month_name\",\n",
    "              y=\"deaths\",\n",
    "              color=\"region\",\n",
    "              labels = {\n",
    "                  'month_name': 'Month',\n",
    "                  'deaths': 'Number of Deaths',\n",
    "                  'region': 'Region'\n",
    "              }\n",
    "             )\n",
    "fig.show()"
   ]
  },
  {
   "cell_type": "markdown",
   "id": "2d1fd028-e747-4560-a947-50a992d5875c",
   "metadata": {
    "tags": []
   },
   "source": [
    "#### Cases and Deaths over time (national)\n",
    "<a href=\"#List-of-Graphs\">Back to list</a>"
   ]
  },
  {
   "cell_type": "code",
   "execution_count": null,
   "id": "dffaab01-92ac-4c4f-be2d-210164109199",
   "metadata": {},
   "outputs": [],
   "source": [
    "per_month = per_month_per_region[['month_num', 'month_name', 'cases', 'deaths']].groupby(['month_num', 'month_name'])[['cases', 'deaths']].sum().reset_index()\n",
    "per_month"
   ]
  },
  {
   "cell_type": "code",
   "execution_count": null,
   "id": "5bf612e2-e663-4bb1-bfbb-092285b3384f",
   "metadata": {},
   "outputs": [],
   "source": [
    "fig = px.line(per_month,\n",
    "              x=\"month_name\",\n",
    "              y=\"cases\",\n",
    "              labels = {\n",
    "                  'month_name': 'Month',\n",
    "                  'cases': 'Number of Cases (in thousands)'\n",
    "              }\n",
    "             )\n",
    "fig.show()"
   ]
  },
  {
   "cell_type": "markdown",
   "id": "f84e5745-9d04-4b46-948c-419d8fb21fdb",
   "metadata": {},
   "source": [
    "#### Fatality rate Choropleth Map\n",
    "<a href=\"#List-of-Graphs\">Back to list</a>"
   ]
  },
  {
   "cell_type": "code",
   "execution_count": null,
   "id": "546a5f9e-4691-4d5b-8ec9-30a14abfe0f5",
   "metadata": {
    "tags": []
   },
   "outputs": [],
   "source": [
    "import mapboxgl\n",
    "mapboxgl.access_token = 'pk.eyJ1IjoicjNuejNsIiwiYSI6ImNsdTNlZ2w2ODB6MjIyanFodDR6NXl2MnMifQ.kveM31v-0p75V41iiEt3bQ'"
   ]
  },
  {
   "cell_type": "code",
   "execution_count": null,
   "id": "e595cc63-f78b-45e7-9c03-94bb89182dd1",
   "metadata": {
    "tags": []
   },
   "outputs": [],
   "source": [
    "gdf = provinces[[\"adm2_psgc\", \"geometry\"]].merge(cases_deaths_per_province, on=\"adm2_psgc\").set_index(\"adm2_psgc\")\n",
    "\n",
    "fig = px.choropleth_mapbox(\n",
    "    gdf,\n",
    "    geojson=gdf.geometry,\n",
    "    locations=gdf.index,\n",
    "    color=\"fatality_rate\",\n",
    "    color_continuous_scale=px.colors.sequential.OrRd,\n",
    "    center={\"lat\": 14.6061, \"lon\": 120.9803},\n",
    "    mapbox_style=\"open-street-map\",\n",
    "    zoom=8.0\n",
    ")\n",
    "\n",
    "fig.show()"
   ]
  },
  {
   "cell_type": "code",
   "execution_count": null,
   "id": "ce06fa9f-d14e-4bb5-bef8-6b6de6243ab0",
   "metadata": {
    "tags": []
   },
   "outputs": [],
   "source": [
    "regions.head(1)"
   ]
  },
  {
   "cell_type": "code",
   "execution_count": null,
   "id": "b3ab633c-a57f-43d1-8de9-e01e6c5ea0e6",
   "metadata": {
    "tags": []
   },
   "outputs": [],
   "source": [
    "gdf = regions[[\"adm1_psgc\", \"geometry\"]].merge(cases_deaths_per_region, on=\"adm1_psgc\").set_index(\"adm1_psgc\")\n",
    "\n",
    "fig = px.choropleth_mapbox(\n",
    "    gdf,\n",
    "    geojson=gdf.geometry,\n",
    "    locations=gdf.index,\n",
    "    color=\"fatality_rate\",\n",
    "    color_continuous_scale=px.colors.sequential.OrRd,\n",
    "    center={\"lat\": 14.6061, \"lon\": 120.9803},\n",
    "    mapbox_style=\"open-street-map\",\n",
    "    zoom=8.0\n",
    ")\n",
    "\n",
    "fig.show()"
   ]
  },
  {
   "cell_type": "code",
   "execution_count": null,
   "id": "e64a83ff-2205-4928-8f9c-492a161f4707",
   "metadata": {},
   "outputs": [],
   "source": []
  },
  {
   "cell_type": "code",
   "execution_count": null,
   "id": "6a5c3a7f-29ef-45f3-8bbf-52229c94ec2a",
   "metadata": {},
   "outputs": [],
   "source": []
  },
  {
   "cell_type": "markdown",
   "id": "8dec07da-f03a-46c7-b68a-e7e2b3148370",
   "metadata": {},
   "source": [
    "#### Test App"
   ]
  },
  {
   "cell_type": "code",
   "execution_count": null,
   "id": "480a3a5c-e782-4543-9f1f-9ad16cdb0847",
   "metadata": {
    "tags": []
   },
   "outputs": [],
   "source": [
    "external_stylesheets = [dbc.themes.MINTY]\n",
    "app = Dash(__name__, external_stylesheets=external_stylesheets)\n",
    "\n",
    "app.layout = dbc.Container([\n",
    "    \n",
    "    dbc.Row([\n",
    "        dcc.Graph(\n",
    "            figure = fig.update_layout(\n",
    "                margin=dict(b=0),\n",
    "                height=350\n",
    "            )\n",
    "        )\n",
    "    ]),\n",
    "    dbc.Row([\n",
    "        dbc.Col([\n",
    "            dcc.Graph(\n",
    "                figure = px.bar(per_month.sort_values(by=\"month_num\"),\n",
    "                                x=\"month_name\",\n",
    "                                y=\"deaths\",\n",
    "                                labels = {\n",
    "                                    \"month_name\": \"Month\",\n",
    "                                    \"deaths\": \"Number of Deaths\"\n",
    "                                },\n",
    "                                text_auto=True).update_layout(\n",
    "                    margin=dict(t=0, b=50),\n",
    "                    height=350\n",
    "                )\n",
    "            )\n",
    "        ], width=5),\n",
    "        dbc.Col([\n",
    "        ], width=7)\n",
    "    ])\n",
    "    \n",
    "], fluid=True)\n",
    "\n",
    "# Comment out if you want to run the app in the notebook\n",
    "# Further testing will be done using app.py (see main directory or repository)\n",
    "'''\n",
    "if __name__ == \"__main__\":\n",
    "    app.run()\n",
    "# '''"
   ]
  },
  {
   "cell_type": "code",
   "execution_count": null,
   "id": "126bfac6-984d-4e82-9bf1-b83db6b91d4e",
   "metadata": {
    "tags": []
   },
   "outputs": [],
   "source": [
    "regions"
   ]
  },
  {
   "cell_type": "code",
   "execution_count": null,
   "id": "22f0cabf-447c-4707-83b1-4d6828c0f135",
   "metadata": {
    "tags": []
   },
   "outputs": [],
   "source": [
    "hospitals = gpd.read_file(\"../datasets/shapefiles/hospitals/hospitals.shp\")\n",
    "hospitals.head()"
   ]
  },
  {
   "cell_type": "code",
   "execution_count": null,
   "id": "11b2952a-318f-46ed-9c89-c1e2c8a015ae",
   "metadata": {
    "tags": []
   },
   "outputs": [],
   "source": [
    "temp_reg_code = {'REGION IX (ZAMBOANGA PENINSULA)': 900000000,\n",
    " 'Bangsamoro Autonomous Region In Muslim Mindanao (BARMM)': 1900000000,\n",
    " 'Region X (northern Mindanao)': 1000000000,\n",
    " 'REGION XII (SOCCSKSARGEN)': 1200000000,\n",
    " 'REGION VII (CENTRAL VISAYAS)': 700000000,\n",
    " 'CAR (CORDILLERA ADMINISTRATIVE REGION': 1400000000,\n",
    " 'REGION VI (WESTERN VISAYAS)': 600000000,\n",
    " 'REGION IV-B (MIMAROPA)': 1700000000,\n",
    " 'REGION VIII (EASTERN VISAYAS)': 800000000,\n",
    " 'REGION II (CAGAYAN VALLEY)': 200000000,\n",
    " 'REGION XIII (CARAGA)': 1600000000,\n",
    " 'REGION III (CENTRAL LUZON)': 300000000,\n",
    " 'REGION V (BICOL REGION)': 500000000,\n",
    " 'REGION I (ILOCOS REGION)': 100000000,\n",
    " 'REGION IV-A (CALABARZON)': 400000000,\n",
    " 'NCR (NATIONAL CAPITAL REGION)': 1300000000,\n",
    " 'REGION XI (DAVAO REGION)': 1100000000}\n",
    "\n",
    "temp_reg_name = {'REGION IX (ZAMBOANGA PENINSULA)': 'Region IX (Zamboanga Peninsula)',\n",
    " 'Region X (northern Mindanao)': 'Region X (Northern Mindanao)',\n",
    " 'REGION XII (SOCCSKSARGEN)': 'Region XII (SOCCSKSARGEN)',\n",
    " 'REGION VII (CENTRAL VISAYAS)': 'Region VII (Central Visayas)',\n",
    " 'CAR (CORDILLERA ADMINISTRATIVE REGION': 'Cordillera Administrative Region (CAR)',\n",
    " 'REGION VI (WESTERN VISAYAS)': 'Region VI (Western Visayas)',\n",
    " 'REGION IV-B (MIMAROPA)': 'MIMAROPA Region',\n",
    " 'REGION VIII (EASTERN VISAYAS)': 'Region VIII (Eastern Visayas)',\n",
    " 'REGION II (CAGAYAN VALLEY)': 'Region II (Cagayan Valley)',\n",
    " 'REGION XIII (CARAGA)': 'Region XIII (Caraga)',\n",
    " 'REGION III (CENTRAL LUZON)': 'Region III (Central Luzon)',\n",
    " 'REGION V (BICOL REGION)': 'Region V (Bicol Region)',\n",
    " 'REGION I (ILOCOS REGION)': 'Region I (Ilocos Region)',\n",
    " 'REGION IV-A (CALABARZON)': 'Region IV-A (CALABARZON)',\n",
    " 'NCR (NATIONAL CAPITAL REGION)': 'National Capital Region (NCR)',\n",
    " 'REGION XI (DAVAO REGION)': 'Region XI (Davao Region)'}\n",
    "\n",
    "temp_list = []\n",
    "for i in range(hospitals.shape[0]):\n",
    "    temp_list.append(temp_reg_code.get(hospitals.iloc[i][\"region\"]))\n",
    "\n",
    "hospitals[\"region\"] = hospitals[\"region\"].map(temp_reg_name)\n",
    "hospitals.insert(7, \"adm1_psgc\", temp_list)"
   ]
  },
  {
   "cell_type": "code",
   "execution_count": null,
   "id": "bf02b7e7-e31c-4ed1-8b24-ee8583d9dc98",
   "metadata": {},
   "outputs": [],
   "source": [
    "hospitals.head()"
   ]
  },
  {
   "cell_type": "code",
   "execution_count": null,
   "id": "82cef46b-35ae-439a-b5bb-3fa2f3ba1b85",
   "metadata": {
    "tags": []
   },
   "outputs": [],
   "source": [
    "hospitals_gdf = hospitals[[\"healthfaci\", \"adm1_psgc\", \"geometry\"]].merge(\n",
    "    cases_deaths_per_province, on=\"adm1_psgc\").set_index(\"adm1_psgc\")"
   ]
  },
  {
   "cell_type": "code",
   "execution_count": null,
   "id": "f2bb2440-afb9-4aaa-adfe-1c5ad61afa9c",
   "metadata": {
    "tags": []
   },
   "outputs": [],
   "source": [
    "fig = px.scatter_mapbox(hospitals_gdf, lat=hospitals_gdf.geometry.y, lon=hospitals_gdf.geometry.x,  center={\"lat\": 12.74, \"lon\": 120.9803}, mapbox_style=\"open-street-map\", zoom=4.335,\n",
    "                       hover_name=\"healthfaci\", hover_data=[\"cases\", \"deaths\", \"fatality_rate\"],\n",
    "                       labels={\n",
    "                           \"cases\": \"Number of Cases\",\n",
    "                           \"deaths\": \"Number of Deaths\",\n",
    "                           \"fatality_rate\": \"Fatality_rate (in %)\"\n",
    "                       })\n",
    "fig.show()"
   ]
  },
  {
   "cell_type": "code",
   "execution_count": null,
   "id": "7f20f8e4-4a48-407f-94f4-b545fbc7b54d",
   "metadata": {},
   "outputs": [],
   "source": []
  }
 ],
 "metadata": {
  "kernelspec": {
   "display_name": "Python 3 (ipykernel)",
   "language": "python",
   "name": "python3"
  },
  "language_info": {
   "codemirror_mode": {
    "name": "ipython",
    "version": 3
   },
   "file_extension": ".py",
   "mimetype": "text/x-python",
   "name": "python",
   "nbconvert_exporter": "python",
   "pygments_lexer": "ipython3",
   "version": "3.11.5"
  }
 },
 "nbformat": 4,
 "nbformat_minor": 5
}
